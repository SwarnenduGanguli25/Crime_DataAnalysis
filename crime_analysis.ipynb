{
 "cells": [
  {
   "cell_type": "code",
   "execution_count": 1,
   "metadata": {},
   "outputs": [],
   "source": [
    "import numpy as np\n",
    "import pandas as pd\n",
    "import matplotlib.pyplot as plt"
   ]
  },
  {
   "cell_type": "code",
   "execution_count": 2,
   "metadata": {},
   "outputs": [],
   "source": [
    "crime_data = pd.read_csv(r'C:\\Users\\Hp\\Desktop\\Crimes.csv')"
   ]
  },
  {
   "cell_type": "code",
   "execution_count": 3,
   "metadata": {},
   "outputs": [
    {
     "data": {
      "text/html": [
       "<div>\n",
       "<style scoped>\n",
       "    .dataframe tbody tr th:only-of-type {\n",
       "        vertical-align: middle;\n",
       "    }\n",
       "\n",
       "    .dataframe tbody tr th {\n",
       "        vertical-align: top;\n",
       "    }\n",
       "\n",
       "    .dataframe thead th {\n",
       "        text-align: right;\n",
       "    }\n",
       "</style>\n",
       "<table border=\"1\" class=\"dataframe\">\n",
       "  <thead>\n",
       "    <tr style=\"text-align: right;\">\n",
       "      <th></th>\n",
       "      <th>ID</th>\n",
       "      <th>Case Number</th>\n",
       "      <th>Date</th>\n",
       "      <th>Block</th>\n",
       "      <th>IUCR</th>\n",
       "      <th>Primary Type</th>\n",
       "      <th>Description</th>\n",
       "      <th>Location Description</th>\n",
       "      <th>Arrest</th>\n",
       "      <th>Domestic</th>\n",
       "      <th>Beat</th>\n",
       "      <th>District</th>\n",
       "      <th>Ward</th>\n",
       "      <th>Community Area</th>\n",
       "    </tr>\n",
       "  </thead>\n",
       "  <tbody>\n",
       "    <tr>\n",
       "      <th>0</th>\n",
       "      <td>11798117</td>\n",
       "      <td>JC397040</td>\n",
       "      <td>8/17/19 23:59</td>\n",
       "      <td>058XX W EDDY ST</td>\n",
       "      <td>820</td>\n",
       "      <td>THEFT</td>\n",
       "      <td>$500 AND UNDER</td>\n",
       "      <td>STREET</td>\n",
       "      <td>True</td>\n",
       "      <td>False</td>\n",
       "      <td>1633</td>\n",
       "      <td>16</td>\n",
       "      <td>36.0</td>\n",
       "      <td>15</td>\n",
       "    </tr>\n",
       "    <tr>\n",
       "      <th>1</th>\n",
       "      <td>11798223</td>\n",
       "      <td>JC397365</td>\n",
       "      <td>8/17/19 23:59</td>\n",
       "      <td>007XX E 87TH ST</td>\n",
       "      <td>1310</td>\n",
       "      <td>CRIMINAL DAMAGE</td>\n",
       "      <td>TO PROPERTY</td>\n",
       "      <td>TAVERN/LIQUOR STORE</td>\n",
       "      <td>False</td>\n",
       "      <td>False</td>\n",
       "      <td>632</td>\n",
       "      <td>6</td>\n",
       "      <td>6.0</td>\n",
       "      <td>44</td>\n",
       "    </tr>\n",
       "    <tr>\n",
       "      <th>2</th>\n",
       "      <td>11797883</td>\n",
       "      <td>JC396936</td>\n",
       "      <td>8/17/19 23:57</td>\n",
       "      <td>022XX W 50TH PL</td>\n",
       "      <td>143A</td>\n",
       "      <td>WEAPONS VIOLATION</td>\n",
       "      <td>UNLAWFUL POSS OF HANDGUN</td>\n",
       "      <td>SIDEWALK</td>\n",
       "      <td>False</td>\n",
       "      <td>False</td>\n",
       "      <td>931</td>\n",
       "      <td>9</td>\n",
       "      <td>15.0</td>\n",
       "      <td>63</td>\n",
       "    </tr>\n",
       "    <tr>\n",
       "      <th>3</th>\n",
       "      <td>11797909</td>\n",
       "      <td>JC397003</td>\n",
       "      <td>8/17/19 23:55</td>\n",
       "      <td>086XX S PHILLIPS AVE</td>\n",
       "      <td>143A</td>\n",
       "      <td>WEAPONS VIOLATION</td>\n",
       "      <td>UNLAWFUL POSS OF HANDGUN</td>\n",
       "      <td>ALLEY</td>\n",
       "      <td>False</td>\n",
       "      <td>False</td>\n",
       "      <td>423</td>\n",
       "      <td>4</td>\n",
       "      <td>7.0</td>\n",
       "      <td>46</td>\n",
       "    </tr>\n",
       "    <tr>\n",
       "      <th>4</th>\n",
       "      <td>11797926</td>\n",
       "      <td>JC396947</td>\n",
       "      <td>8/17/19 23:45</td>\n",
       "      <td>079XX S SOUTH CHICAGO AVE</td>\n",
       "      <td>460</td>\n",
       "      <td>BATTERY</td>\n",
       "      <td>SIMPLE</td>\n",
       "      <td>SIDEWALK</td>\n",
       "      <td>True</td>\n",
       "      <td>False</td>\n",
       "      <td>411</td>\n",
       "      <td>4</td>\n",
       "      <td>8.0</td>\n",
       "      <td>46</td>\n",
       "    </tr>\n",
       "    <tr>\n",
       "      <th>5</th>\n",
       "      <td>11797877</td>\n",
       "      <td>JC396925</td>\n",
       "      <td>8/17/19 23:42</td>\n",
       "      <td>023XX N MILWAUKEE AVE</td>\n",
       "      <td>520</td>\n",
       "      <td>ASSAULT</td>\n",
       "      <td>AGGRAVATED:KNIFE/CUTTING INSTR</td>\n",
       "      <td>SIDEWALK</td>\n",
       "      <td>True</td>\n",
       "      <td>False</td>\n",
       "      <td>1414</td>\n",
       "      <td>14</td>\n",
       "      <td>1.0</td>\n",
       "      <td>22</td>\n",
       "    </tr>\n",
       "    <tr>\n",
       "      <th>6</th>\n",
       "      <td>11797907</td>\n",
       "      <td>JC396922</td>\n",
       "      <td>8/17/19 23:42</td>\n",
       "      <td>061XX S DR MARTIN LUTHER KING JR DR</td>\n",
       "      <td>041A</td>\n",
       "      <td>BATTERY</td>\n",
       "      <td>AGGRAVATED: HANDGUN</td>\n",
       "      <td>STREET</td>\n",
       "      <td>False</td>\n",
       "      <td>False</td>\n",
       "      <td>313</td>\n",
       "      <td>3</td>\n",
       "      <td>20.0</td>\n",
       "      <td>42</td>\n",
       "    </tr>\n",
       "    <tr>\n",
       "      <th>7</th>\n",
       "      <td>11798114</td>\n",
       "      <td>JC396931</td>\n",
       "      <td>8/17/19 23:40</td>\n",
       "      <td>011XX S CANAL ST</td>\n",
       "      <td>460</td>\n",
       "      <td>BATTERY</td>\n",
       "      <td>SIMPLE</td>\n",
       "      <td>COMMERCIAL / BUSINESS OFFICE</td>\n",
       "      <td>False</td>\n",
       "      <td>False</td>\n",
       "      <td>124</td>\n",
       "      <td>1</td>\n",
       "      <td>25.0</td>\n",
       "      <td>28</td>\n",
       "    </tr>\n",
       "    <tr>\n",
       "      <th>8</th>\n",
       "      <td>11797953</td>\n",
       "      <td>JC396974</td>\n",
       "      <td>8/17/19 23:39</td>\n",
       "      <td>014XX N NORTH PARK AVE</td>\n",
       "      <td>2170</td>\n",
       "      <td>NARCOTICS</td>\n",
       "      <td>POSSESSION OF DRUG EQUIPMENT</td>\n",
       "      <td>SIDEWALK</td>\n",
       "      <td>True</td>\n",
       "      <td>False</td>\n",
       "      <td>1821</td>\n",
       "      <td>18</td>\n",
       "      <td>27.0</td>\n",
       "      <td>8</td>\n",
       "    </tr>\n",
       "    <tr>\n",
       "      <th>9</th>\n",
       "      <td>11797975</td>\n",
       "      <td>JC396957</td>\n",
       "      <td>8/17/19 23:33</td>\n",
       "      <td>044XX W 26TH ST</td>\n",
       "      <td>313</td>\n",
       "      <td>ROBBERY</td>\n",
       "      <td>ARMED: OTHER DANGEROUS WEAPON</td>\n",
       "      <td>SIDEWALK</td>\n",
       "      <td>False</td>\n",
       "      <td>False</td>\n",
       "      <td>1013</td>\n",
       "      <td>10</td>\n",
       "      <td>22.0</td>\n",
       "      <td>30</td>\n",
       "    </tr>\n",
       "  </tbody>\n",
       "</table>\n",
       "</div>"
      ],
      "text/plain": [
       "         ID Case Number           Date                                Block  \\\n",
       "0  11798117    JC397040  8/17/19 23:59                      058XX W EDDY ST   \n",
       "1  11798223    JC397365  8/17/19 23:59                      007XX E 87TH ST   \n",
       "2  11797883    JC396936  8/17/19 23:57                      022XX W 50TH PL   \n",
       "3  11797909    JC397003  8/17/19 23:55                 086XX S PHILLIPS AVE   \n",
       "4  11797926    JC396947  8/17/19 23:45            079XX S SOUTH CHICAGO AVE   \n",
       "5  11797877    JC396925  8/17/19 23:42                023XX N MILWAUKEE AVE   \n",
       "6  11797907    JC396922  8/17/19 23:42  061XX S DR MARTIN LUTHER KING JR DR   \n",
       "7  11798114    JC396931  8/17/19 23:40                     011XX S CANAL ST   \n",
       "8  11797953    JC396974  8/17/19 23:39               014XX N NORTH PARK AVE   \n",
       "9  11797975    JC396957  8/17/19 23:33                      044XX W 26TH ST   \n",
       "\n",
       "   IUCR       Primary Type                     Description  \\\n",
       "0   820              THEFT                  $500 AND UNDER   \n",
       "1  1310    CRIMINAL DAMAGE                     TO PROPERTY   \n",
       "2  143A  WEAPONS VIOLATION        UNLAWFUL POSS OF HANDGUN   \n",
       "3  143A  WEAPONS VIOLATION        UNLAWFUL POSS OF HANDGUN   \n",
       "4   460            BATTERY                          SIMPLE   \n",
       "5   520            ASSAULT  AGGRAVATED:KNIFE/CUTTING INSTR   \n",
       "6  041A            BATTERY             AGGRAVATED: HANDGUN   \n",
       "7   460            BATTERY                          SIMPLE   \n",
       "8  2170          NARCOTICS    POSSESSION OF DRUG EQUIPMENT   \n",
       "9   313            ROBBERY   ARMED: OTHER DANGEROUS WEAPON   \n",
       "\n",
       "           Location Description  Arrest  Domestic  Beat  District  Ward  \\\n",
       "0                        STREET    True     False  1633        16  36.0   \n",
       "1           TAVERN/LIQUOR STORE   False     False   632         6   6.0   \n",
       "2                      SIDEWALK   False     False   931         9  15.0   \n",
       "3                         ALLEY   False     False   423         4   7.0   \n",
       "4                      SIDEWALK    True     False   411         4   8.0   \n",
       "5                      SIDEWALK    True     False  1414        14   1.0   \n",
       "6                        STREET   False     False   313         3  20.0   \n",
       "7  COMMERCIAL / BUSINESS OFFICE   False     False   124         1  25.0   \n",
       "8                      SIDEWALK    True     False  1821        18  27.0   \n",
       "9                      SIDEWALK   False     False  1013        10  22.0   \n",
       "\n",
       "   Community Area  \n",
       "0              15  \n",
       "1              44  \n",
       "2              63  \n",
       "3              46  \n",
       "4              46  \n",
       "5              22  \n",
       "6              42  \n",
       "7              28  \n",
       "8               8  \n",
       "9              30  "
      ]
     },
     "execution_count": 3,
     "metadata": {},
     "output_type": "execute_result"
    }
   ],
   "source": [
    "crime_data.head(10)"
   ]
  },
  {
   "cell_type": "code",
   "execution_count": 8,
   "metadata": {},
   "outputs": [
    {
     "data": {
      "text/html": [
       "<div>\n",
       "<style scoped>\n",
       "    .dataframe tbody tr th:only-of-type {\n",
       "        vertical-align: middle;\n",
       "    }\n",
       "\n",
       "    .dataframe tbody tr th {\n",
       "        vertical-align: top;\n",
       "    }\n",
       "\n",
       "    .dataframe thead th {\n",
       "        text-align: right;\n",
       "    }\n",
       "</style>\n",
       "<table border=\"1\" class=\"dataframe\">\n",
       "  <thead>\n",
       "    <tr style=\"text-align: right;\">\n",
       "      <th></th>\n",
       "      <th>ID</th>\n",
       "      <th>Case Number</th>\n",
       "      <th>Date</th>\n",
       "      <th>Block</th>\n",
       "      <th>IUCR</th>\n",
       "      <th>Primary Type</th>\n",
       "      <th>Description</th>\n",
       "      <th>Location Description</th>\n",
       "      <th>Arrest</th>\n",
       "      <th>Domestic</th>\n",
       "      <th>Beat</th>\n",
       "      <th>District</th>\n",
       "      <th>Ward</th>\n",
       "      <th>Community Area</th>\n",
       "      <th>Dates</th>\n",
       "      <th>Time</th>\n",
       "      <th>Day</th>\n",
       "      <th>Month</th>\n",
       "      <th>Year</th>\n",
       "      <th>Day of week</th>\n",
       "    </tr>\n",
       "  </thead>\n",
       "  <tbody>\n",
       "    <tr>\n",
       "      <th>0</th>\n",
       "      <td>11798117</td>\n",
       "      <td>JC397040</td>\n",
       "      <td>8/17/19 23:59</td>\n",
       "      <td>058XX W EDDY ST</td>\n",
       "      <td>820</td>\n",
       "      <td>THEFT</td>\n",
       "      <td>$500 AND UNDER</td>\n",
       "      <td>STREET</td>\n",
       "      <td>True</td>\n",
       "      <td>False</td>\n",
       "      <td>1633</td>\n",
       "      <td>16</td>\n",
       "      <td>36.0</td>\n",
       "      <td>15</td>\n",
       "      <td>2019-08-17</td>\n",
       "      <td>23:59:00</td>\n",
       "      <td>17</td>\n",
       "      <td>8</td>\n",
       "      <td>2019</td>\n",
       "      <td>5</td>\n",
       "    </tr>\n",
       "    <tr>\n",
       "      <th>1</th>\n",
       "      <td>11798223</td>\n",
       "      <td>JC397365</td>\n",
       "      <td>8/17/19 23:59</td>\n",
       "      <td>007XX E 87TH ST</td>\n",
       "      <td>1310</td>\n",
       "      <td>CRIMINAL DAMAGE</td>\n",
       "      <td>TO PROPERTY</td>\n",
       "      <td>TAVERN/LIQUOR STORE</td>\n",
       "      <td>False</td>\n",
       "      <td>False</td>\n",
       "      <td>632</td>\n",
       "      <td>6</td>\n",
       "      <td>6.0</td>\n",
       "      <td>44</td>\n",
       "      <td>2019-08-17</td>\n",
       "      <td>23:59:00</td>\n",
       "      <td>17</td>\n",
       "      <td>8</td>\n",
       "      <td>2019</td>\n",
       "      <td>5</td>\n",
       "    </tr>\n",
       "    <tr>\n",
       "      <th>2</th>\n",
       "      <td>11797883</td>\n",
       "      <td>JC396936</td>\n",
       "      <td>8/17/19 23:57</td>\n",
       "      <td>022XX W 50TH PL</td>\n",
       "      <td>143A</td>\n",
       "      <td>WEAPONS VIOLATION</td>\n",
       "      <td>UNLAWFUL POSS OF HANDGUN</td>\n",
       "      <td>SIDEWALK</td>\n",
       "      <td>False</td>\n",
       "      <td>False</td>\n",
       "      <td>931</td>\n",
       "      <td>9</td>\n",
       "      <td>15.0</td>\n",
       "      <td>63</td>\n",
       "      <td>2019-08-17</td>\n",
       "      <td>23:57:00</td>\n",
       "      <td>17</td>\n",
       "      <td>8</td>\n",
       "      <td>2019</td>\n",
       "      <td>5</td>\n",
       "    </tr>\n",
       "    <tr>\n",
       "      <th>3</th>\n",
       "      <td>11797909</td>\n",
       "      <td>JC397003</td>\n",
       "      <td>8/17/19 23:55</td>\n",
       "      <td>086XX S PHILLIPS AVE</td>\n",
       "      <td>143A</td>\n",
       "      <td>WEAPONS VIOLATION</td>\n",
       "      <td>UNLAWFUL POSS OF HANDGUN</td>\n",
       "      <td>ALLEY</td>\n",
       "      <td>False</td>\n",
       "      <td>False</td>\n",
       "      <td>423</td>\n",
       "      <td>4</td>\n",
       "      <td>7.0</td>\n",
       "      <td>46</td>\n",
       "      <td>2019-08-17</td>\n",
       "      <td>23:55:00</td>\n",
       "      <td>17</td>\n",
       "      <td>8</td>\n",
       "      <td>2019</td>\n",
       "      <td>5</td>\n",
       "    </tr>\n",
       "    <tr>\n",
       "      <th>4</th>\n",
       "      <td>11797926</td>\n",
       "      <td>JC396947</td>\n",
       "      <td>8/17/19 23:45</td>\n",
       "      <td>079XX S SOUTH CHICAGO AVE</td>\n",
       "      <td>460</td>\n",
       "      <td>BATTERY</td>\n",
       "      <td>SIMPLE</td>\n",
       "      <td>SIDEWALK</td>\n",
       "      <td>True</td>\n",
       "      <td>False</td>\n",
       "      <td>411</td>\n",
       "      <td>4</td>\n",
       "      <td>8.0</td>\n",
       "      <td>46</td>\n",
       "      <td>2019-08-17</td>\n",
       "      <td>23:45:00</td>\n",
       "      <td>17</td>\n",
       "      <td>8</td>\n",
       "      <td>2019</td>\n",
       "      <td>5</td>\n",
       "    </tr>\n",
       "  </tbody>\n",
       "</table>\n",
       "</div>"
      ],
      "text/plain": [
       "         ID Case Number           Date                      Block  IUCR  \\\n",
       "0  11798117    JC397040  8/17/19 23:59            058XX W EDDY ST   820   \n",
       "1  11798223    JC397365  8/17/19 23:59            007XX E 87TH ST  1310   \n",
       "2  11797883    JC396936  8/17/19 23:57            022XX W 50TH PL  143A   \n",
       "3  11797909    JC397003  8/17/19 23:55       086XX S PHILLIPS AVE  143A   \n",
       "4  11797926    JC396947  8/17/19 23:45  079XX S SOUTH CHICAGO AVE   460   \n",
       "\n",
       "        Primary Type               Description Location Description  Arrest  \\\n",
       "0              THEFT            $500 AND UNDER               STREET    True   \n",
       "1    CRIMINAL DAMAGE               TO PROPERTY  TAVERN/LIQUOR STORE   False   \n",
       "2  WEAPONS VIOLATION  UNLAWFUL POSS OF HANDGUN             SIDEWALK   False   \n",
       "3  WEAPONS VIOLATION  UNLAWFUL POSS OF HANDGUN                ALLEY   False   \n",
       "4            BATTERY                    SIMPLE             SIDEWALK    True   \n",
       "\n",
       "   Domestic  Beat  District  Ward  Community Area       Dates      Time  Day  \\\n",
       "0     False  1633        16  36.0              15  2019-08-17  23:59:00   17   \n",
       "1     False   632         6   6.0              44  2019-08-17  23:59:00   17   \n",
       "2     False   931         9  15.0              63  2019-08-17  23:57:00   17   \n",
       "3     False   423         4   7.0              46  2019-08-17  23:55:00   17   \n",
       "4     False   411         4   8.0              46  2019-08-17  23:45:00   17   \n",
       "\n",
       "   Month  Year  Day of week  \n",
       "0      8  2019            5  \n",
       "1      8  2019            5  \n",
       "2      8  2019            5  \n",
       "3      8  2019            5  \n",
       "4      8  2019            5  "
      ]
     },
     "execution_count": 8,
     "metadata": {},
     "output_type": "execute_result"
    }
   ],
   "source": [
    "crime_data['Day'] = pd.to_datetime(crime_data['Date']).dt.day\n",
    "crime_data['Month'] = pd.to_datetime(crime_data['Date']).dt.month\n",
    "crime_data['Year'] = pd.to_datetime(crime_data['Date']).dt.year\n",
    "crime_data['Time'] = pd.to_datetime(crime_data['Date']).dt.time\n",
    "crime_data['Day of week'] = pd.to_datetime(crime_data['Date']).dt.dayofweek\n",
    "crime_data.head(5)"
   ]
  },
  {
   "cell_type": "code",
   "execution_count": 9,
   "metadata": {},
   "outputs": [
    {
     "data": {
      "text/plain": [
       "array(['THEFT', 'CRIMINAL DAMAGE', 'WEAPONS VIOLATION', 'BATTERY',\n",
       "       'ASSAULT', 'NARCOTICS', 'ROBBERY', 'MOTOR VEHICLE THEFT',\n",
       "       'OTHER OFFENSE', 'SEX OFFENSE', 'BURGLARY', 'CRIM SEXUAL ASSAULT',\n",
       "       'GAMBLING', 'OFFENSE INVOLVING CHILDREN',\n",
       "       'INTERFERENCE WITH PUBLIC OFFICER', 'CRIMINAL TRESPASS', 'ARSON',\n",
       "       'DECEPTIVE PRACTICE', 'PUBLIC PEACE VIOLATION',\n",
       "       'CONCEALED CARRY LICENSE VIOLATION', 'LIQUOR LAW VIOLATION',\n",
       "       'HOMICIDE', 'STALKING', 'OBSCENITY', 'PROSTITUTION', 'KIDNAPPING',\n",
       "       'INTIMIDATION', 'HUMAN TRAFFICKING', 'OTHER NARCOTIC VIOLATION',\n",
       "       'PUBLIC INDECENCY', 'NON-CRIMINAL'], dtype=object)"
      ]
     },
     "execution_count": 9,
     "metadata": {},
     "output_type": "execute_result"
    }
   ],
   "source": [
    "crime_data['Primary Type'].unique()"
   ]
  },
  {
   "cell_type": "code",
   "execution_count": 11,
   "metadata": {},
   "outputs": [
    {
     "data": {
      "text/plain": [
       "THEFT                                38203\n",
       "BATTERY                              31728\n",
       "CRIMINAL DAMAGE                      16806\n",
       "ASSAULT                              13219\n",
       "OTHER OFFENSE                        10761\n",
       "DECEPTIVE PRACTICE                   10630\n",
       "NARCOTICS                             8767\n",
       "BURGLARY                              5824\n",
       "MOTOR VEHICLE THEFT                   5712\n",
       "ROBBERY                               4903\n",
       "CRIMINAL TRESPASS                     4298\n",
       "WEAPONS VIOLATION                     4063\n",
       "OFFENSE INVOLVING CHILDREN            1478\n",
       "INTERFERENCE WITH PUBLIC OFFICER      1016\n",
       "PUBLIC PEACE VIOLATION                1003\n",
       "CRIM SEXUAL ASSAULT                    996\n",
       "SEX OFFENSE                            771\n",
       "PROSTITUTION                           455\n",
       "HOMICIDE                               311\n",
       "ARSON                                  222\n",
       "LIQUOR LAW VIOLATION                   146\n",
       "STALKING                               141\n",
       "CONCEALED CARRY LICENSE VIOLATION      133\n",
       "KIDNAPPING                             112\n",
       "INTIMIDATION                           103\n",
       "GAMBLING                                92\n",
       "OBSCENITY                               31\n",
       "HUMAN TRAFFICKING                        8\n",
       "OTHER NARCOTIC VIOLATION                 4\n",
       "PUBLIC INDECENCY                         4\n",
       "NON-CRIMINAL                             2\n",
       "Name: Primary Type, dtype: int64"
      ]
     },
     "execution_count": 11,
     "metadata": {},
     "output_type": "execute_result"
    }
   ],
   "source": [
    "crime_data['Primary Type'].value_counts()"
   ]
  },
  {
   "cell_type": "code",
   "execution_count": 34,
   "metadata": {},
   "outputs": [
    {
     "data": {
      "text/plain": [
       "THEFT                               23.6\n",
       "BATTERY                             19.6\n",
       "CRIMINAL DAMAGE                     10.4\n",
       "ASSAULT                              8.2\n",
       "OTHER OFFENSE                        6.6\n",
       "DECEPTIVE PRACTICE                   6.6\n",
       "NARCOTICS                            5.4\n",
       "BURGLARY                             3.6\n",
       "MOTOR VEHICLE THEFT                  3.5\n",
       "ROBBERY                              3.0\n",
       "CRIMINAL TRESPASS                    2.7\n",
       "WEAPONS VIOLATION                    2.5\n",
       "OFFENSE INVOLVING CHILDREN           0.9\n",
       "INTERFERENCE WITH PUBLIC OFFICER     0.6\n",
       "PUBLIC PEACE VIOLATION               0.6\n",
       "Name: Primary Type, dtype: float64"
      ]
     },
     "execution_count": 34,
     "metadata": {},
     "output_type": "execute_result"
    }
   ],
   "source": [
    "crime_data['Primary Type'].value_counts(normalize=True)[:15].mul(100).round(1)"
   ]
  },
  {
   "cell_type": "code",
   "execution_count": 90,
   "metadata": {},
   "outputs": [
    {
     "data": {
      "text/plain": [
       "<matplotlib.axes._subplots.AxesSubplot at 0x13c6a190>"
      ]
     },
     "execution_count": 90,
     "metadata": {},
     "output_type": "execute_result"
    },
    {
     "data": {
      "image/png": "[encoded data removed]",
      "text/plain": [
       "<Figure size 1440x720 with 1 Axes>"
      ]
     },
     "metadata": {
      "needs_background": "light"
     },
     "output_type": "display_data"
    }
   ],
   "source": [
    "crime_data['Primary Type'].value_counts()[:20].plot(kind='barh',figsize=(20,10))"
   ]
  },
  {
   "cell_type": "code",
   "execution_count": 17,
   "metadata": {},
   "outputs": [
    {
     "data": {
      "text/plain": [
       "array(['STREET', 'TAVERN/LIQUOR STORE', 'SIDEWALK', 'ALLEY',\n",
       "       'COMMERCIAL / BUSINESS OFFICE', 'OTHER', 'CHA PARKING LOT/GROUNDS',\n",
       "       'RESIDENCE', 'APARTMENT', 'GAS STATION',\n",
       "       'RESIDENTIAL YARD (FRONT/BACK)', 'RESIDENCE-GARAGE',\n",
       "       'RESIDENCE PORCH/HALLWAY', 'AIRPORT PARKING LOT', 'BOWLING ALLEY',\n",
       "       'VEHICLE NON-COMMERCIAL', 'ATHLETIC CLUB', 'CTA STATION',\n",
       "       'GROCERY FOOD STORE', 'PARK PROPERTY', 'BAR OR TAVERN',\n",
       "       'CTA PLATFORM', 'RESTAURANT', 'LAKEFRONT/WATERFRONT/RIVERBANK',\n",
       "       'POOL ROOM', 'DEPARTMENT STORE', 'PARKING LOT/GARAGE(NON.RESID.)',\n",
       "       'CTA BUS STOP', 'CTA TRAIN', 'VACANT LOT/LAND',\n",
       "       'SMALL RETAIL STORE', 'VEHICLE-COMMERCIAL', 'CONVENIENCE STORE',\n",
       "       'OTHER RAILROAD PROP / TRAIN DEPOT', 'HOTEL/MOTEL',\n",
       "       'VEHICLE - DELIVERY TRUCK', 'CONSTRUCTION SITE', 'AIRCRAFT',\n",
       "       'CHA APARTMENT', 'CHA HALLWAY/STAIRWELL/ELEVATOR',\n",
       "       'MEDICAL/DENTAL OFFICE', 'DRUG STORE', 'BANK',\n",
       "       'CTA GARAGE / OTHER PROPERTY', nan, 'SPORTS ARENA/STADIUM',\n",
       "       'ABANDONED BUILDING', 'HOSPITAL BUILDING/GROUNDS',\n",
       "       'DRIVEWAY - RESIDENTIAL', 'POLICE FACILITY/VEH PARKING LOT',\n",
       "       'LIBRARY', 'OTHER COMMERCIAL TRANSPORTATION', 'AUTO', 'CTA BUS',\n",
       "       'NURSING HOME/RETIREMENT HOME', 'CAR WASH',\n",
       "       'VEHICLE - OTHER RIDE SHARE SERVICE (E.G., UBER, LYFT)',\n",
       "       'AIRPORT EXTERIOR - SECURE AREA', 'AIRPORT VENDING ESTABLISHMENT',\n",
       "       'AUTO / BOAT / RV DEALERSHIP', 'PAWN SHOP',\n",
       "       'AIRPORT TERMINAL UPPER LEVEL - SECURE AREA',\n",
       "       'SCHOOL, PRIVATE, BUILDING', 'CHURCH/SYNAGOGUE/PLACE OF WORSHIP',\n",
       "       'AIRPORT TERMINAL LOWER LEVEL - NON-SECURE AREA',\n",
       "       'SCHOOL, PUBLIC, BUILDING', 'WAREHOUSE', 'TAXICAB',\n",
       "       'HIGHWAY/EXPRESSWAY', 'AIRPORT EXTERIOR - NON-SECURE AREA',\n",
       "       'DAY CARE CENTER', 'GOVERNMENT BUILDING/PROPERTY',\n",
       "       'COLLEGE/UNIVERSITY GROUNDS', 'CTA TRACKS - RIGHT OF WAY',\n",
       "       'SCHOOL, PUBLIC, GROUNDS', 'CURRENCY EXCHANGE', 'BOAT/WATERCRAFT',\n",
       "       'FIRE STATION', 'SCHOOL, PRIVATE, GROUNDS',\n",
       "       'AIRPORT BUILDING NON-TERMINAL - SECURE AREA', 'FEDERAL BUILDING',\n",
       "       'FARM', 'FACTORY/MANUFACTURING BUILDING', 'MOVIE HOUSE/THEATER',\n",
       "       'BARBERSHOP', 'AIRPORT TERMINAL UPPER LEVEL - NON-SECURE AREA',\n",
       "       'CEMETARY', 'KENNEL', 'APPLIANCE STORE',\n",
       "       'AIRPORT TRANSPORTATION SYSTEM (ATS)',\n",
       "       'AIRPORT TERMINAL MEZZANINE - NON-SECURE AREA', 'PORCH',\n",
       "       'ATM (AUTOMATIC TELLER MACHINE)', 'CLEANING STORE',\n",
       "       'FOREST PRESERVE',\n",
       "       'AIRPORT BUILDING NON-TERMINAL - NON-SECURE AREA',\n",
       "       'COLLEGE/UNIVERSITY RESIDENCE HALL', 'COIN OPERATED MACHINE',\n",
       "       'BRIDGE', 'ANIMAL HOSPITAL',\n",
       "       'AIRPORT TERMINAL LOWER LEVEL - SECURE AREA', 'TRAILER',\n",
       "       'CREDIT UNION', 'JAIL / LOCK-UP FACILITY', 'NEWSSTAND',\n",
       "       'CTA \"L\" PLATFORM', 'SAVINGS AND LOAN', 'VACANT LOT',\n",
       "       'VEHICLE-COMMERCIAL - TROLLEY BUS', 'AIRPORT/AIRCRAFT',\n",
       "       'PARKING LOT', 'RAILROAD PROPERTY', 'YARD', 'RETAIL STORE',\n",
       "       'HOUSE', 'CHA PARKING LOT', 'CHA GROUNDS', 'GANGWAY', 'GARAGE',\n",
       "       'CHA PLAY LOT', 'BARBER SHOP/BEAUTY SALON', 'BASEMENT', 'HOTEL'],\n",
       "      dtype=object)"
      ]
     },
     "execution_count": 17,
     "metadata": {},
     "output_type": "execute_result"
    }
   ],
   "source": [
    "crime_data['Location Description'].unique()"
   ]
  },
  {
   "cell_type": "code",
   "execution_count": 31,
   "metadata": {},
   "outputs": [
    {
     "data": {
      "text/plain": [
       "STREET                            22.2\n",
       "RESIDENCE                         16.3\n",
       "APARTMENT                         13.5\n",
       "SIDEWALK                           7.8\n",
       "OTHER                              4.0\n",
       "PARKING LOT/GARAGE(NON.RESID.)     3.0\n",
       "RESTAURANT                         2.8\n",
       "SMALL RETAIL STORE                 2.6\n",
       "ALLEY                              2.0\n",
       "RESIDENTIAL YARD (FRONT/BACK)      1.9\n",
       "DEPARTMENT STORE                   1.8\n",
       "RESIDENCE PORCH/HALLWAY            1.8\n",
       "VEHICLE NON-COMMERCIAL             1.8\n",
       "GAS STATION                        1.5\n",
       "GROCERY FOOD STORE                 1.3\n",
       "Name: Location Description, dtype: float64"
      ]
     },
     "execution_count": 31,
     "metadata": {},
     "output_type": "execute_result"
    }
   ],
   "source": [
    "crime_data['Location Description'].value_counts(normalize=True)[:15].mul(100).round(1)"
   ]
  },
  {
   "cell_type": "code",
   "execution_count": 87,
   "metadata": {},
   "outputs": [
    {
     "data": {
      "text/plain": [
       "<matplotlib.axes._subplots.AxesSubplot at 0x13e4eeb0>"
      ]
     },
     "execution_count": 87,
     "metadata": {},
     "output_type": "execute_result"
    },
    {
     "data": {
      "image/png": "[encoded data removed]",
      "text/plain": [
       "<Figure size 1440x720 with 1 Axes>"
      ]
     },
     "metadata": {
      "needs_background": "light"
     },
     "output_type": "display_data"
    }
   ],
   "source": [
    "crime_data['Location Description'].value_counts(normalize=True)[:15].mul(100).round(1).plot(kind='barh',figsize=(20,10))"
   ]
  },
  {
   "cell_type": "code",
   "execution_count": 20,
   "metadata": {},
   "outputs": [
    {
     "data": {
      "text/plain": [
       "4    24565\n",
       "5    24223\n",
       "3    23047\n",
       "1    22909\n",
       "2    22893\n",
       "0    22599\n",
       "6    21706\n",
       "Name: Day of week, dtype: int64"
      ]
     },
     "execution_count": 20,
     "metadata": {},
     "output_type": "execute_result"
    }
   ],
   "source": [
    "crime_data['Day of week'].value_counts()"
   ]
  },
  {
   "cell_type": "code",
   "execution_count": 28,
   "metadata": {},
   "outputs": [
    {
     "data": {
      "text/plain": [
       "4    15.2\n",
       "5    15.0\n",
       "3    14.2\n",
       "1    14.1\n",
       "2    14.1\n",
       "0    14.0\n",
       "6    13.4\n",
       "Name: Day of week, dtype: float64"
      ]
     },
     "execution_count": 28,
     "metadata": {},
     "output_type": "execute_result"
    }
   ],
   "source": [
    " crime_data['Day of week'].value_counts(normalize=True).mul(100).round(1)   "
   ]
  },
  {
   "cell_type": "code",
   "execution_count": 89,
   "metadata": {},
   "outputs": [
    {
     "data": {
      "text/plain": [
       "<matplotlib.axes._subplots.AxesSubplot at 0x13cbef10>"
      ]
     },
     "execution_count": 89,
     "metadata": {},
     "output_type": "execute_result"
    },
    {
     "data": {
      "image/png": "[encoded data removed]",
      "text/plain": [
       "<Figure size 720x360 with 1 Axes>"
      ]
     },
     "metadata": {
      "needs_background": "light"
     },
     "output_type": "display_data"
    }
   ],
   "source": [
    "crime_data['Day of week'].value_counts(normalize=True).mul(100).round(1).plot(kind='bar',figsize=(10,5))"
   ]
  },
  {
   "cell_type": "code",
   "execution_count": 35,
   "metadata": {},
   "outputs": [
    {
     "data": {
      "text/plain": [
       "7    15.0\n",
       "5    14.4\n",
       "6    14.2\n",
       "4    12.8\n",
       "3    12.4\n",
       "1    11.9\n",
       "2    11.2\n",
       "8     8.0\n",
       "Name: Month, dtype: float64"
      ]
     },
     "execution_count": 35,
     "metadata": {},
     "output_type": "execute_result"
    }
   ],
   "source": [
    "crime_data['Month'].value_counts(normalize=True).mul(100).round(1)  "
   ]
  },
  {
   "cell_type": "code",
   "execution_count": 91,
   "metadata": {},
   "outputs": [
    {
     "data": {
      "text/plain": [
       "<matplotlib.axes._subplots.AxesSubplot at 0x137c8370>"
      ]
     },
     "execution_count": 91,
     "metadata": {},
     "output_type": "execute_result"
    },
    {
     "data": {
      "image/png": "[encoded data removed]",
      "text/plain": [
       "<Figure size 720x360 with 1 Axes>"
      ]
     },
     "metadata": {
      "needs_background": "light"
     },
     "output_type": "display_data"
    }
   ],
   "source": [
    "crime_data['Month'].value_counts(normalize=True).mul(100).round(1).plot(kind='barh',figsize=(10,5))"
   ]
  },
  {
   "cell_type": "code",
   "execution_count": 37,
   "metadata": {},
   "outputs": [
    {
     "data": {
      "text/plain": [
       "array(['820', '1310', '143A', '460', '520', '041A', '2170', '313', '1320',\n",
       "       '560', '910', '486', '860', '326', '810', '051A', '2820', '1581',\n",
       "       '1822', '1811', '530', '496', '610', '890', '312', '141A', '870',\n",
       "       '2093', '320', '484', '620', '2825', '281', '5002', '2900', '033A',\n",
       "       '031A', '1661', '1755', '880', '420', '1305', '3731', '2014',\n",
       "       '1360', '2020', '1020', '2024', '1345', '502R', '1220', '850',\n",
       "       '2022', '1812', '554', '454', '1150', '430', '1242', '1330',\n",
       "       '1365', '1570', '1210', '865', '337', '1710', '502P', '470',\n",
       "       '4387', '440', '630', '2092', '1130', '497', '2017', '1121',\n",
       "       '2027', '1152', '1156', '3730', '479', '1153', '2826', '5112',\n",
       "       '051B', '1120', '930', '1154', '1790', '1478', '2210', '1780',\n",
       "       '498', '1477', '5000', '650', '110', '495', '334', '325', '553',\n",
       "       '462', '5111', '1821', '2850', '2018', '275', '3710', '584', '920',\n",
       "       '2021', '1750', '1122', '1350', '2890', '1565', '1206', '1540',\n",
       "       '1185', '2250', '555', '2023', '501A', '4386', '2870', '1155',\n",
       "       '501H', '2860', '1110', '1506', '261', '1460', '1563', '143B',\n",
       "       '2028', '4650', '2851', '340', '1140', '485', '545', '1479',\n",
       "       '5001', '4860', '3760', '2026', '141C', '2025', '1480', '558',\n",
       "       '3750', '266', '330', '5011', '1513', '1195', '580', '1090',\n",
       "       '2012', '4210', '1261', '552', '1549', '1340', '141B', '915',\n",
       "       '3960', '1030', '5007', '500N', '2013', '031B', '2110', '1792',\n",
       "       '1754', '143C', '271', '3970', '1580', '488', '550', '291', '2031',\n",
       "       '453', '3100', '265', '263', '1585', '1562', '1753', '557', '925',\n",
       "       '2830', '918', '1582', '5013', '331', '3800', '1751', '4651',\n",
       "       '5132', '483', '5110', '2840', '2090', '917', '5130', '1151',\n",
       "       '5131', '1170', '1200', '4310', '502T', '935', '1050', '1512',\n",
       "       '2220', '1245', '2230', '1205', '895', '1900', '4220', '4652',\n",
       "       '1752', '033B', '4800', '2160', '3961', '1335', '4389', '1025',\n",
       "       '487', '1840', '2032', '5004', '4625', '2029', '4255', '4230',\n",
       "       '556', '4510', '2016', '2251', '2015', '927', '583', '2091',\n",
       "       '1544', '273', '551', '1541', '1375', '4388', '461', '041B',\n",
       "       '1850', '1791', '5121', '2011', '2010', '475', '1536', '3300',\n",
       "       '3910', '2034', '4740', '5003', '1010', '1535', '1370', '1680',\n",
       "       '2095', '1576', '1537', '1590', '1240', '452', '2895', '500E',\n",
       "       '482', '1651', '1725', '2033', '1715', '928', '1720', '1670',\n",
       "       '1135', '262', '1566', '1241', '142', '264', '142A', '1481',\n",
       "       '1507', '3920', '1564', '1525', '450', '3966', '1055', '5009',\n",
       "       '2040', '5114'], dtype=object)"
      ]
     },
     "execution_count": 37,
     "metadata": {},
     "output_type": "execute_result"
    }
   ],
   "source": [
    "crime_data['IUCR'].unique()"
   ]
  },
  {
   "cell_type": "code",
   "execution_count": 38,
   "metadata": {},
   "outputs": [
    {
     "data": {
      "text/plain": [
       "486     9.3\n",
       "820     8.5\n",
       "460     6.5\n",
       "560     5.5\n",
       "810     5.4\n",
       "1310    5.0\n",
       "1320    4.7\n",
       "890     4.2\n",
       "860     4.1\n",
       "910     3.1\n",
       "610     2.1\n",
       "143A    1.6\n",
       "1330    1.6\n",
       "1150    1.5\n",
       "1153    1.4\n",
       "Name: IUCR, dtype: float64"
      ]
     },
     "execution_count": 38,
     "metadata": {},
     "output_type": "execute_result"
    }
   ],
   "source": [
    "crime_data['IUCR'].value_counts(normalize=True)[:15].mul(100).round(1)"
   ]
  },
  {
   "cell_type": "code",
   "execution_count": 92,
   "metadata": {},
   "outputs": [
    {
     "data": {
      "text/plain": [
       "<matplotlib.axes._subplots.AxesSubplot at 0x13714868>"
      ]
     },
     "execution_count": 92,
     "metadata": {},
     "output_type": "execute_result"
    },
    {
     "data": {
      "image/png": "[encoded data removed]",
      "text/plain": [
       "<Figure size 1440x720 with 1 Axes>"
      ]
     },
     "metadata": {
      "needs_background": "light"
     },
     "output_type": "display_data"
    }
   ],
   "source": [
    "crime_data['IUCR'].value_counts(normalize=True)[:20].mul(100).round(1).plot(kind='barh',figsize=(20,10))"
   ]
  },
  {
   "cell_type": "code",
   "execution_count": 51,
   "metadata": {},
   "outputs": [],
   "source": [
    "crime_data['block_add'] = crime_data['Block'].str.split(\" \",n=1,expand=True)[0]"
   ]
  },
  {
   "cell_type": "code",
   "execution_count": 52,
   "metadata": {},
   "outputs": [
    {
     "data": {
      "text/plain": [
       "0         058XX\n",
       "1         007XX\n",
       "2         022XX\n",
       "3         086XX\n",
       "4         079XX\n",
       "          ...  \n",
       "161937    027XX\n",
       "161938    013XX\n",
       "161939    045XX\n",
       "161940    045XX\n",
       "161941    092XX\n",
       "Name: block_add, Length: 161942, dtype: object"
      ]
     },
     "execution_count": 52,
     "metadata": {},
     "output_type": "execute_result"
    }
   ],
   "source": [
    "crime_data['block_add']"
   ]
  },
  {
   "cell_type": "code",
   "execution_count": 54,
   "metadata": {},
   "outputs": [
    {
     "data": {
      "text/plain": [
       "0000X    6290\n",
       "001XX    4731\n",
       "002XX    3770\n",
       "003XX    3294\n",
       "008XX    2959\n",
       "006XX    2865\n",
       "015XX    2847\n",
       "007XX    2835\n",
       "005XX    2777\n",
       "014XX    2751\n",
       "011XX    2719\n",
       "012XX    2701\n",
       "016XX    2698\n",
       "013XX    2632\n",
       "004XX    2538\n",
       "Name: block_add, dtype: int64"
      ]
     },
     "execution_count": 54,
     "metadata": {},
     "output_type": "execute_result"
    }
   ],
   "source": [
    "crime_data['block_add'].value_counts()[:15]"
   ]
  },
  {
   "cell_type": "code",
   "execution_count": 103,
   "metadata": {},
   "outputs": [
    {
     "data": {
      "text/plain": [
       "<matplotlib.axes._subplots.AxesSubplot at 0x18817310>"
      ]
     },
     "execution_count": 103,
     "metadata": {},
     "output_type": "execute_result"
    },
    {
     "data": {
      "image/png": "[encoded data removed]",
      "text/plain": [
       "<Figure size 720x360 with 1 Axes>"
      ]
     },
     "metadata": {
      "needs_background": "light"
     },
     "output_type": "display_data"
    }
   ],
   "source": [
    "crime_data['block_add'].value_counts(normalize=True)[:15].mul(100).round(1).plot(kind='barh',figsize=(10,5))"
   ]
  },
  {
   "cell_type": "code",
   "execution_count": 56,
   "metadata": {},
   "outputs": [
    {
     "data": {
      "text/plain": [
       "False    78.8\n",
       "True     21.2\n",
       "Name: Arrest, dtype: float64"
      ]
     },
     "execution_count": 56,
     "metadata": {},
     "output_type": "execute_result"
    }
   ],
   "source": [
    "crime_data['Arrest'].value_counts(normalize=True).mul(100).round(1)"
   ]
  },
  {
   "cell_type": "code",
   "execution_count": 96,
   "metadata": {},
   "outputs": [
    {
     "data": {
      "text/plain": [
       "<matplotlib.axes._subplots.AxesSubplot at 0x1425f6b8>"
      ]
     },
     "execution_count": 96,
     "metadata": {},
     "output_type": "execute_result"
    },
    {
     "data": {
      "image/png": "[encoded data removed]",
      "text/plain": [
       "<Figure size 720x360 with 1 Axes>"
      ]
     },
     "metadata": {},
     "output_type": "display_data"
    }
   ],
   "source": [
    "crime_data['Arrest'].value_counts(normalize=True).mul(100).round(1).plot(kind='pie',explode=(0,0.2),shadow=True,figsize=(10,5))"
   ]
  },
  {
   "cell_type": "code",
   "execution_count": 58,
   "metadata": {},
   "outputs": [
    {
     "data": {
      "text/plain": [
       "False    83.1\n",
       "True     16.9\n",
       "Name: Domestic, dtype: float64"
      ]
     },
     "execution_count": 58,
     "metadata": {},
     "output_type": "execute_result"
    }
   ],
   "source": [
    "crime_data['Domestic'].value_counts(normalize=True).mul(100).round(1)"
   ]
  },
  {
   "cell_type": "code",
   "execution_count": 95,
   "metadata": {},
   "outputs": [
    {
     "data": {
      "text/plain": [
       "<matplotlib.axes._subplots.AxesSubplot at 0x144afe68>"
      ]
     },
     "execution_count": 95,
     "metadata": {},
     "output_type": "execute_result"
    },
    {
     "data": {
      "image/png": "[encoded data removed]",
      "text/plain": [
       "<Figure size 720x360 with 1 Axes>"
      ]
     },
     "metadata": {},
     "output_type": "display_data"
    }
   ],
   "source": [
    "crime_data['Domestic'].value_counts(normalize=True).mul(100).round(1).plot(kind='pie',explode=(0,0.2),shadow=True,figsize=(10,5))"
   ]
  },
  {
   "cell_type": "code",
   "execution_count": 66,
   "metadata": {},
   "outputs": [
    {
     "data": {
      "text/plain": [
       "Primary Type                       Arrest\n",
       "ARSON                              False       205\n",
       "                                   True         17\n",
       "ASSAULT                            False     10798\n",
       "                                   True       2421\n",
       "BATTERY                            False     25270\n",
       "                                   True       6458\n",
       "BURGLARY                           False      5534\n",
       "                                   True        290\n",
       "CONCEALED CARRY LICENSE VIOLATION  False         4\n",
       "                                   True        129\n",
       "CRIM SEXUAL ASSAULT                False       945\n",
       "                                   True         51\n",
       "CRIMINAL DAMAGE                    False     15793\n",
       "                                   True       1013\n",
       "CRIMINAL TRESPASS                  False      1847\n",
       "                                   True       2451\n",
       "DECEPTIVE PRACTICE                 False     10156\n",
       "                                   True        474\n",
       "GAMBLING                           True         92\n",
       "HOMICIDE                           False       257\n",
       "                                   True         54\n",
       "HUMAN TRAFFICKING                  False         8\n",
       "INTERFERENCE WITH PUBLIC OFFICER   False        38\n",
       "                                   True        978\n",
       "INTIMIDATION                       False        98\n",
       "                                   True          5\n",
       "KIDNAPPING                         False       105\n",
       "                                   True          7\n",
       "LIQUOR LAW VIOLATION               True        146\n",
       "MOTOR VEHICLE THEFT                False      5419\n",
       "                                   True        293\n",
       "NARCOTICS                          False         4\n",
       "                                   True       8763\n",
       "NON-CRIMINAL                       False         2\n",
       "OBSCENITY                          False         2\n",
       "                                   True         29\n",
       "OFFENSE INVOLVING CHILDREN         False      1318\n",
       "                                   True        160\n",
       "OTHER NARCOTIC VIOLATION           False         2\n",
       "                                   True          2\n",
       "OTHER OFFENSE                      False      8414\n",
       "                                   True       2347\n",
       "PROSTITUTION                       True        455\n",
       "PUBLIC INDECENCY                   True          4\n",
       "PUBLIC PEACE VIOLATION             False       304\n",
       "                                   True        699\n",
       "ROBBERY                            False      4504\n",
       "                                   True        399\n",
       "SEX OFFENSE                        False       686\n",
       "                                   True         85\n",
       "STALKING                           False       124\n",
       "                                   True         17\n",
       "THEFT                              False     34484\n",
       "                                   True       3719\n",
       "WEAPONS VIOLATION                  False      1349\n",
       "                                   True       2714\n",
       "dtype: int64"
      ]
     },
     "execution_count": 66,
     "metadata": {},
     "output_type": "execute_result"
    }
   ],
   "source": [
    "crime_data.groupby(['Primary Type','Arrest']).size()"
   ]
  },
  {
   "cell_type": "code",
   "execution_count": 101,
   "metadata": {},
   "outputs": [
    {
     "data": {
      "text/plain": [
       "<matplotlib.axes._subplots.AxesSubplot at 0x18600238>"
      ]
     },
     "execution_count": 101,
     "metadata": {},
     "output_type": "execute_result"
    },
    {
     "data": {
      "image/png": "[encoded data removed]",
      "text/plain": [
       "<Figure size 1440x1080 with 1 Axes>"
      ]
     },
     "metadata": {
      "needs_background": "light"
     },
     "output_type": "display_data"
    }
   ],
   "source": [
    "crime_data.groupby(['Primary Type','Arrest']).size().unstack('Arrest')[:30].plot.barh(figsize=(20,15))"
   ]
  },
  {
   "cell_type": "code",
   "execution_count": 82,
   "metadata": {},
   "outputs": [
    {
     "data": {
      "text/plain": [
       "Primary Type                       Domestic\n",
       "ARSON                              False         210\n",
       "                                   True           12\n",
       "ASSAULT                            False        9791\n",
       "                                   True         3428\n",
       "BATTERY                            False       16478\n",
       "                                   True        15250\n",
       "BURGLARY                           False        5724\n",
       "                                   True          100\n",
       "CONCEALED CARRY LICENSE VIOLATION  False         133\n",
       "CRIM SEXUAL ASSAULT                False         845\n",
       "                                   True          151\n",
       "CRIMINAL DAMAGE                    False       14777\n",
       "                                   True         2029\n",
       "CRIMINAL TRESPASS                  False        4091\n",
       "                                   True          207\n",
       "DECEPTIVE PRACTICE                 False       10542\n",
       "                                   True           88\n",
       "GAMBLING                           False          92\n",
       "HOMICIDE                           False         296\n",
       "                                   True           15\n",
       "HUMAN TRAFFICKING                  False           8\n",
       "INTERFERENCE WITH PUBLIC OFFICER   False        1011\n",
       "                                   True            5\n",
       "INTIMIDATION                       False          91\n",
       "                                   True           12\n",
       "KIDNAPPING                         False          90\n",
       "                                   True           22\n",
       "LIQUOR LAW VIOLATION               False         146\n",
       "MOTOR VEHICLE THEFT                False        5624\n",
       "                                   True           88\n",
       "NARCOTICS                          False        8764\n",
       "                                   True            3\n",
       "NON-CRIMINAL                       False           2\n",
       "OBSCENITY                          False          26\n",
       "                                   True            5\n",
       "OFFENSE INVOLVING CHILDREN         False         687\n",
       "                                   True          791\n",
       "OTHER NARCOTIC VIOLATION           False           4\n",
       "OTHER OFFENSE                      False        7343\n",
       "                                   True         3418\n",
       "PROSTITUTION                       False         454\n",
       "                                   True            1\n",
       "PUBLIC INDECENCY                   False           4\n",
       "PUBLIC PEACE VIOLATION             False         973\n",
       "                                   True           30\n",
       "ROBBERY                            False        4787\n",
       "                                   True          116\n",
       "SEX OFFENSE                        False         646\n",
       "                                   True          125\n",
       "STALKING                           False          85\n",
       "                                   True           56\n",
       "THEFT                              False       36778\n",
       "                                   True         1425\n",
       "WEAPONS VIOLATION                  False        4054\n",
       "                                   True            9\n",
       "dtype: int64"
      ]
     },
     "execution_count": 82,
     "metadata": {},
     "output_type": "execute_result"
    }
   ],
   "source": [
    "crime_data.groupby(['Primary Type','Domestic']).size()"
   ]
  },
  {
   "cell_type": "code",
   "execution_count": 102,
   "metadata": {},
   "outputs": [
    {
     "data": {
      "text/plain": [
       "<matplotlib.axes._subplots.AxesSubplot at 0x187fdfb8>"
      ]
     },
     "execution_count": 102,
     "metadata": {},
     "output_type": "execute_result"
    },
    {
     "data": {
      "image/png": "[encoded data removed]",
      "text/plain": [
       "<Figure size 1440x1080 with 1 Axes>"
      ]
     },
     "metadata": {
      "needs_background": "light"
     },
     "output_type": "display_data"
    }
   ],
   "source": [
    "crime_data.groupby(['Primary Type','Domestic']).size().unstack('Domestic')[:30].plot.barh(figsize=(20,15))"
   ]
  },
  {
   "cell_type": "code",
   "execution_count": null,
   "metadata": {},
   "outputs": [],
   "source": []
  }
 ],
 "metadata": {
  "kernelspec": {
   "display_name": "Python 3",
   "language": "python",
   "name": "python3"
  },
  "language_info": {
   "codemirror_mode": {
    "name": "ipython",
    "version": 3
   },
   "file_extension": ".py",
   "mimetype": "text/x-python",
   "name": "python",
   "nbconvert_exporter": "python",
   "pygments_lexer": "ipython3",
   "version": "3.8.2"
  }
 },
 "nbformat": 4,
 "nbformat_minor": 4
}
